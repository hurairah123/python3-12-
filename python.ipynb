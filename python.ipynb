{
 "cells": [
  {
   "cell_type": "code",
   "execution_count": 1,
   "metadata": {},
   "outputs": [
    {
     "name": "stdout",
     "output_type": "stream",
     "text": [
      "hello world\n"
     ]
    }
   ],
   "source": [
    "print(\"hello world\")"
   ]
  },
  {
   "cell_type": "code",
   "execution_count": 2,
   "metadata": {},
   "outputs": [
    {
     "name": "stdout",
     "output_type": "stream",
     "text": [
      "hi dear\n"
     ]
    }
   ],
   "source": [
    "print(\"hi dear\")"
   ]
  },
  {
   "cell_type": "code",
   "execution_count": 4,
   "metadata": {},
   "outputs": [
    {
     "name": "stdout",
     "output_type": "stream",
     "text": [
      "hello bro\n"
     ]
    }
   ],
   "source": [
    "#this is print\n",
    "'''thi is multipul\n",
    "comment\n",
    "this comment is easy to know'''\n",
    "print(\"hello bro\")\n",
    "data = \"this is very beautifull boy\"\n",
    "print(data)"
   ]
  },
  {
   "cell_type": "code",
   "execution_count": 6,
   "metadata": {},
   "outputs": [
    {
     "name": "stdout",
     "output_type": "stream",
     "text": [
      "this is very beautifull boy\n"
     ]
    }
   ],
   "source": [
    "data = \"this is very beautifull boy\"\n",
    "print(data)"
   ]
  },
  {
   "cell_type": "code",
   "execution_count": 8,
   "metadata": {},
   "outputs": [
    {
     "name": "stdout",
     "output_type": "stream",
     "text": [
      "the value of 3 + 5 =  8\n",
      "the value of 3 - 5 =  -2\n",
      "the value of 3 * 5 =  15\n",
      "the value of 3 / 5 =  0.6\n",
      "the value of 3 ** 5 =  243\n",
      "the value of 3 // 5 =  0\n"
     ]
    }
   ],
   "source": [
    "print(\"the value of 3 + 5 = \", 3+5)\n",
    "print(\"the value of 3 - 5 = \", 3-5)\n",
    "print(\"the value of 3 * 5 = \", 3*5)\n",
    "print(\"the value of 3 / 5 = \", 3/5)\n",
    "# Agar power lagana ho\n",
    "print(\"the value of 3 ** 5 = \", 3**5)\n",
    "# Agar point ka bad ke value ko hide karna ho\n",
    "print(\"the value of 3 // 5 = \", 3//5)"
   ]
  },
  {
   "cell_type": "code",
   "execution_count": 9,
   "metadata": {},
   "outputs": [
    {
     "name": "stdout",
     "output_type": "stream",
     "text": [
      "this is a \"\n"
     ]
    }
   ],
   "source": [
    "print(\"this is a \\\"\")"
   ]
  },
  {
   "cell_type": "code",
   "execution_count": 12,
   "metadata": {},
   "outputs": [
    {
     "name": "stdout",
     "output_type": "stream",
     "text": [
      " this is amultiline string and this will keep\n"
     ]
    }
   ],
   "source": [
    "mls = ''' this is amultiline string and this will keep'''\n",
    "print(mls)"
   ]
  },
  {
   "cell_type": "code",
   "execution_count": 15,
   "metadata": {},
   "outputs": [
    {
     "name": "stdout",
     "output_type": "stream",
     "text": [
      "this is astring to the right\n"
     ]
    }
   ],
   "source": [
    "print(\"%s to the right\"%('this is astring'))\n"
   ]
  },
  {
   "cell_type": "code",
   "execution_count": 18,
   "metadata": {},
   "outputs": [
    {
     "name": "stdout",
     "output_type": "stream",
     "text": [
      "this is print statement 1, this is print statment 2\n"
     ]
    }
   ],
   "source": [
    "print('this is print statement 1,', end=\"\")\n",
    "print(' this is print statment 2')"
   ]
  },
  {
   "cell_type": "code",
   "execution_count": 19,
   "metadata": {},
   "outputs": [
    {
     "name": "stdout",
     "output_type": "stream",
     "text": [
      "this this this this this \n"
     ]
    }
   ],
   "source": [
    "print(\"this \"*5)"
   ]
  },
  {
   "cell_type": "code",
   "execution_count": 21,
   "metadata": {},
   "outputs": [
    {
     "name": "stdout",
     "output_type": "stream",
     "text": [
      "['IT', 'BSIT', 'BSCS', 'BS Cyber security']\n"
     ]
    }
   ],
   "source": [
    "# creat List\n",
    "colleges = ['IT' , 'BSIT' , 'BSCS' , 'BS Cyber security']\n",
    "print(colleges)"
   ]
  },
  {
   "cell_type": "code",
   "execution_count": 22,
   "metadata": {},
   "outputs": [
    {
     "name": "stdout",
     "output_type": "stream",
     "text": [
      "BS Cyber security\n"
     ]
    }
   ],
   "source": [
    "colleges = ['IT' , 'BSIT' , 'BSCS' , 'BS Cyber security']\n",
    "print(colleges[3])"
   ]
  },
  {
   "cell_type": "code",
   "execution_count": 23,
   "metadata": {},
   "outputs": [
    {
     "name": "stdout",
     "output_type": "stream",
     "text": [
      "BS computer science\n"
     ]
    }
   ],
   "source": [
    "#agar list ma sa kese bhe valuse ko update karna ho to\n",
    "colleges[2] = \"BS computer science\"\n",
    "print(colleges[2])"
   ]
  },
  {
   "cell_type": "code",
   "execution_count": 24,
   "metadata": {},
   "outputs": [
    {
     "name": "stdout",
     "output_type": "stream",
     "text": [
      "['IT', 'BSIT', 'BS computer science', 'BS Cyber security']\n"
     ]
    }
   ],
   "source": [
    "print(colleges)"
   ]
  },
  {
   "cell_type": "code",
   "execution_count": 25,
   "metadata": {},
   "outputs": [
    {
     "name": "stdout",
     "output_type": "stream",
     "text": [
      "['BSIT', 'BS computer science']\n"
     ]
    }
   ],
   "source": [
    "#agar humy spacefic list ko print karwana ho to\n",
    "print(colleges[1:3])"
   ]
  },
  {
   "cell_type": "code",
   "execution_count": 26,
   "metadata": {},
   "outputs": [
    {
     "name": "stdout",
     "output_type": "stream",
     "text": [
      "['tables', 'chair', 'fan', 'clothes', 'brother', 'microphone']\n"
     ]
    }
   ],
   "source": [
    "# agar humy list ma kuch bhe chez add karna ho to\n",
    "list2 = ['tables', 'chair', 'fan', 'clothes', 'brother']\n",
    "list2.append('microphone')\n",
    "print(list2)"
   ]
  },
  {
   "cell_type": "code",
   "execution_count": 28,
   "metadata": {},
   "outputs": [
    {
     "name": "stdout",
     "output_type": "stream",
     "text": [
      "['tables', 'chair', 'fan', 'clothes', 'brother', 'microphone']\n"
     ]
    }
   ],
   "source": [
    "print(list2)"
   ]
  },
  {
   "cell_type": "code",
   "execution_count": 29,
   "metadata": {},
   "outputs": [],
   "source": [
    "list2.insert(3, 'microphone')"
   ]
  },
  {
   "cell_type": "code",
   "execution_count": 30,
   "metadata": {},
   "outputs": [
    {
     "name": "stdout",
     "output_type": "stream",
     "text": [
      "['tables', 'chair', 'fan', 'microphone', 'clothes', 'brother', 'microphone']\n"
     ]
    }
   ],
   "source": [
    "print(list2)"
   ]
  },
  {
   "cell_type": "code",
   "execution_count": 31,
   "metadata": {},
   "outputs": [
    {
     "name": "stdout",
     "output_type": "stream",
     "text": [
      "['tables', 'chair', 'fan', 'clothes', 'brother', 'microphone']\n"
     ]
    }
   ],
   "source": [
    "list2.remove('microphone')\n",
    "print(list2)"
   ]
  },
  {
   "cell_type": "code",
   "execution_count": 32,
   "metadata": {},
   "outputs": [
    {
     "name": "stdout",
     "output_type": "stream",
     "text": [
      "['tables', 'chair', 'fan', 'clothes', 'brother', 'microphone', 'pillow', 'tubelight', 'bed']\n"
     ]
    }
   ],
   "source": [
    "\n",
    "#agar list ma ak sa zada element ko add karna ho\n",
    "print(list2 + ['pillow', 'tubelight', 'bed'])"
   ]
  },
  {
   "cell_type": "code",
   "execution_count": 1,
   "metadata": {},
   "outputs": [
    {
     "name": "stdout",
     "output_type": "stream",
     "text": [
      "7\n"
     ]
    }
   ],
   "source": [
    "a = 2\n",
    "b = 5\n",
    "print(a + b)"
   ]
  },
  {
   "cell_type": "code",
   "execution_count": null,
   "metadata": {},
   "outputs": [],
   "source": []
  }
 ],
 "metadata": {
  "kernelspec": {
   "display_name": "Python 3.9.12 ('base')",
   "language": "python",
   "name": "python3"
  },
  "language_info": {
   "codemirror_mode": {
    "name": "ipython",
    "version": 3
   },
   "file_extension": ".py",
   "mimetype": "text/x-python",
   "name": "python",
   "nbconvert_exporter": "python",
   "pygments_lexer": "ipython3",
   "version": "3.9.12"
  },
  "orig_nbformat": 4,
  "vscode": {
   "interpreter": {
    "hash": "e79b48a60d5761988e7542a523cc3f2a3587a5ab4c3156d1fa56b591f0a1df24"
   }
  }
 },
 "nbformat": 4,
 "nbformat_minor": 2
}
